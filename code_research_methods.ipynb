{
 "cells": [
  {
   "cell_type": "code",
   "execution_count": null,
   "metadata": {},
   "outputs": [],
   "source": [
    "import pandas as pd\n",
    "import numpy as np"
   ]
  },
  {
   "cell_type": "code",
   "execution_count": null,
   "metadata": {},
   "outputs": [],
   "source": [
    "df_usa_pop = pd.read_csv('D:\\\\Course\\\\Research Methods\\\\Coursework 2\\\\US_pop.csv')\n",
    "df_usa = pd.read_csv('D:\\\\Course\\\\Research Methods\\\\Coursework 2\\\\USAdeath.csv')\n",
    "\n",
    "df_japan_pop = pd.read_csv('D:\\\\Course\\\\Research Methods\\\\Coursework 2\\\\japan_pop.csv')\n",
    "df_japan = pd.read_csv('D:\\\\Course\\\\Research Methods\\\\Coursework 2\\\\JPNdeath.csv')\n"
   ]
  },
  {
   "cell_type": "code",
   "execution_count": null,
   "metadata": {},
   "outputs": [],
   "source": [
    "df_usa.drop(['Area','YearReg','YearInterval','AgeInterval','Lexis','RefCode','Access','LDB','NoteCode1','NoteCode2','NoteCode3'], inplace = True, axis = 1)\n",
    "df_japan.drop(['Area','YearReg','YearInterval','AgeInterval','Lexis','RefCode','Access','LDB','NoteCode1','NoteCode2','NoteCode3'], inplace = True, axis = 1)"
   ]
  },
  {
   "cell_type": "code",
   "execution_count": null,
   "metadata": {},
   "outputs": [],
   "source": [
    "df_usa_pop.drop(['Area','Age','AgeInterval','Type','Day','Month','RefCode','Access','NoteCode1','NoteCode2','NoteCode3','LDB'], inplace = True, axis = 1)\n",
    "df_japan_pop.drop(['Area','Age','AgeInterval','Type','Day','Month','RefCode','Access','NoteCode1','NoteCode2','NoteCode3','LDB'], inplace = True, axis = 1)"
   ]
  },
  {
   "cell_type": "code",
   "execution_count": null,
   "metadata": {},
   "outputs": [],
   "source": [
    "df_usa.replace([np.inf, -np.inf], np.nan, inplace=True)\n",
    "df_usa.replace(['UNK'], np.nan, inplace=True)\n",
    "df_usa.dropna(inplace=True)"
   ]
  },
  {
   "cell_type": "code",
   "execution_count": null,
   "metadata": {},
   "outputs": [],
   "source": [
    "df_japan.replace([np.inf, -np.inf], np.nan, inplace=True)\n",
    "df_japan.replace(['UNK'], np.nan, inplace=True)\n",
    "df_japan.dropna(inplace=True)"
   ]
  },
  {
   "cell_type": "code",
   "execution_count": null,
   "metadata": {},
   "outputs": [],
   "source": [
    "df_usa_pop.replace([np.inf, -np.inf], np.nan, inplace=True)\n",
    "df_usa_pop.replace(['UNK'], np.nan, inplace=True)\n",
    "df_usa_pop.dropna(inplace=True)\n",
    "\n",
    "df_japan_pop.replace([np.inf, -np.inf], np.nan, inplace=True)\n",
    "df_japan_pop.replace(['UNK'], np.nan, inplace=True)\n",
    "df_japan_pop.dropna(inplace=True)"
   ]
  },
  {
   "cell_type": "code",
   "execution_count": null,
   "metadata": {},
   "outputs": [],
   "source": [
    "df_usa.drop(df_usa[df_usa['Sex'] == 'm'].index, inplace=True)\n",
    "df_japan.drop(df_japan[df_japan['Sex'] == 'm'].index, inplace=True)"
   ]
  },
  {
   "cell_type": "code",
   "execution_count": null,
   "metadata": {},
   "outputs": [],
   "source": [
    "df_usa_pop.drop(df_usa_pop[df_usa_pop['Sex'] == 'm'].index, inplace=True)\n",
    "df_japan_pop.drop(df_japan_pop[df_japan_pop['Sex'] == 'm'].index, inplace=True)"
   ]
  },
  {
   "cell_type": "code",
   "execution_count": null,
   "metadata": {},
   "outputs": [],
   "source": [
    "df_usa = df_usa.groupby(['Year', 'PopName'])['Deaths'].sum()\n",
    "df_japan = df_japan.groupby(['Year', 'PopName'])['Deaths'].sum()"
   ]
  },
  {
   "cell_type": "code",
   "execution_count": null,
   "metadata": {},
   "outputs": [],
   "source": [
    "df_usa_pop.drop(df_usa_pop[df_usa_pop['Sex'] == 'm'].index, inplace=True)\n",
    "df_japan_pop.drop(df_japan_pop[df_japan_pop['Sex'] == 'm'].index, inplace=True)"
   ]
  },
  {
   "cell_type": "code",
   "execution_count": null,
   "metadata": {},
   "outputs": [],
   "source": [
    "df_usa_pop = df_usa_pop.groupby(['Year']).sum()\n",
    "df_japan_pop = df_japan_pop.groupby(['Year']).sum()"
   ]
  },
  {
   "cell_type": "code",
   "execution_count": null,
   "metadata": {},
   "outputs": [],
   "source": [
    "df_usa = pd.DataFrame(df_usa).reset_index()\n",
    "df_japan = pd.DataFrame(df_japan).reset_index()"
   ]
  },
  {
   "cell_type": "code",
   "execution_count": null,
   "metadata": {},
   "outputs": [],
   "source": [
    "df_usa_pop = pd.DataFrame(df_usa_pop).reset_index()\n",
    "df_japan_pop = pd.DataFrame(df_japan_pop).reset_index()"
   ]
  },
  {
   "cell_type": "code",
   "execution_count": null,
   "metadata": {},
   "outputs": [],
   "source": [
    "df_usa.rename({'Deaths' : 'Deaths_usa'}, inplace=True, axis=1)\n",
    "df_japan.rename({'Deaths' : 'Deaths_japan'}, inplace=True, axis=1)"
   ]
  },
  {
   "cell_type": "code",
   "execution_count": null,
   "metadata": {},
   "outputs": [],
   "source": [
    "merged_usa_japan = pd.DataFrame()\n",
    "merged_usa_japan = df_usa\n",
    "merged_usa_japan = merged_usa_japan.merge(df_japan, how='inner', left_on='Year', right_on='Year')\n"
   ]
  },
  {
   "cell_type": "code",
   "execution_count": null,
   "metadata": {},
   "outputs": [],
   "source": [
    "df_usa.to_csv('USA.csv')\n",
    "df_japan.to_csv('Japan.csv')"
   ]
  },
  {
   "cell_type": "code",
   "execution_count": null,
   "metadata": {},
   "outputs": [],
   "source": [
    "df_usa_pop.to_csv('USA_population.csv')\n",
    "df_japan_pop.to_csv('Japan_population.csv')"
   ]
  },
  {
   "cell_type": "code",
   "execution_count": null,
   "metadata": {},
   "outputs": [],
   "source": [
    "merged_usa_japan.to_excel('usa_japan.xlsx')"
   ]
  }
 ],
 "metadata": {
  "language_info": {
   "name": "python"
  },
  "orig_nbformat": 4
 },
 "nbformat": 4,
 "nbformat_minor": 2
}
